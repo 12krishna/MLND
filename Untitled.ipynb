{
 "cells": [
  {
   "cell_type": "code",
   "execution_count": 1,
   "metadata": {},
   "outputs": [],
   "source": [
    "#### Getting imports ####\n",
    "import numpy as np\n",
    "import pandas as pd \n",
    "import matplotlib.pyplot as plt\n",
    "%matplotlib inline\n"
   ]
  },
  {
   "cell_type": "code",
   "execution_count": 2,
   "metadata": {},
   "outputs": [],
   "source": [
    "### Getting data ####\n",
    "def readatis(filename):\n",
    "    \"\"\"\n",
    "    function for reading the ATIS \n",
    "    \"\"\"\n",
    "    data = pd.read_csv(filename, sep='\\t', header=None)\n",
    "    # get sentences and labels\n",
    "    \n",
    "    sents = [s.split() for s in data[0].tolist()]\n",
    "    labels  = [s.split() for s in data[1].tolist()]\n",
    "    \n",
    "    # for sents, replace digits\n",
    "    for i, sent in enumerate(sents):        \n",
    "        sent = ' '.join(sent)        \n",
    "        for d in ['0', '1', '2', '3', '4', '5', '6', '7', '8', '9']:\n",
    "            sent = sent.replace(d, '#')\n",
    "        sents[i] = sent.split()\n",
    "    # check lengths\n",
    "    \n",
    "    assert(len(sents)==len(labels))\n",
    "    # the intent label is the last item of labels\n",
    "    # remove it and replace it with a 'O' null tag \n",
    "    ints = [s[-1] for s in labels]\n",
    "    labels = [s[:-1]+['O'] for s in labels]\n",
    "    \n",
    "    # check sent, labels, int lengths\n",
    "    assert(len(sents)==len(ints))\n",
    "    for i in range(len(sents)):\n",
    "        assert(len(sents[i])==len(labels[i]))\n",
    "    return sents, labels, ints"
   ]
  },
  {
   "cell_type": "code",
   "execution_count": 3,
   "metadata": {},
   "outputs": [],
   "source": [
    "trn_texts, trn_slots, trn_ints = readatis('./atis-2.train.w-intent.iob.txt')\n"
   ]
  },
  {
   "cell_type": "code",
   "execution_count": 4,
   "metadata": {},
   "outputs": [],
   "source": [
    "tst_texts, tst_slots, tst_ints = readatis('./atis.test.w-intent.iob.txt')\n"
   ]
  },
  {
   "cell_type": "code",
   "execution_count": 5,
   "metadata": {},
   "outputs": [
    {
     "data": {
      "text/plain": [
       "(4478, 4478, 4478)"
      ]
     },
     "execution_count": 5,
     "metadata": {},
     "output_type": "execute_result"
    }
   ],
   "source": [
    "len(trn_texts),len(trn_slots),len(trn_ints)"
   ]
  },
  {
   "cell_type": "code",
   "execution_count": 6,
   "metadata": {},
   "outputs": [
    {
     "data": {
      "text/plain": [
       "893"
      ]
     },
     "execution_count": 6,
     "metadata": {},
     "output_type": "execute_result"
    }
   ],
   "source": [
    "len(tst_texts)"
   ]
  },
  {
   "cell_type": "markdown",
   "metadata": {},
   "source": [
    "**EDA**"
   ]
  },
  {
   "cell_type": "code",
   "execution_count": 48,
   "metadata": {},
   "outputs": [
    {
     "data": {
      "text/plain": [
       "120"
      ]
     },
     "execution_count": 48,
     "metadata": {},
     "output_type": "execute_result"
    }
   ],
   "source": [
    "# view set of slot tags\n",
    "len(list(set([t for s in trn_slots for t in s]))) "
   ]
  },
  {
   "cell_type": "code",
   "execution_count": 10,
   "metadata": {},
   "outputs": [
    {
     "data": {
      "text/plain": [
       "[('O', 41022),\n",
       " ('B-toloc.city_name', 3919),\n",
       " ('B-fromloc.city_name', 3892),\n",
       " ('I-toloc.city_name', 987),\n",
       " ('B-depart_date.day_name', 785),\n",
       " ('B-airline_name', 639),\n",
       " ('I-fromloc.city_name', 632),\n",
       " ('B-depart_time.period_of_day', 521),\n",
       " ('I-airline_name', 379),\n",
       " ('B-depart_date.day_number', 355)]"
      ]
     },
     "execution_count": 10,
     "metadata": {},
     "output_type": "execute_result"
    }
   ],
   "source": [
    "# most repeated tags\n",
    "from collections import Counter\n",
    "Counter([t for s in trn_slots for t in s]).most_common(10)"
   ]
  },
  {
   "cell_type": "code",
   "execution_count": 18,
   "metadata": {},
   "outputs": [
    {
     "data": {
      "text/plain": [
       "21"
      ]
     },
     "execution_count": 18,
     "metadata": {},
     "output_type": "execute_result"
    }
   ],
   "source": [
    "# unique number of intents \n",
    "len(set(list(trn_ints)))"
   ]
  },
  {
   "cell_type": "code",
   "execution_count": 20,
   "metadata": {},
   "outputs": [
    {
     "data": {
      "text/plain": [
       "[('atis_flight', 3309),\n",
       " ('atis_airfare', 385),\n",
       " ('atis_ground_service', 230),\n",
       " ('atis_airline', 139),\n",
       " ('atis_abbreviation', 130)]"
      ]
     },
     "execution_count": 20,
     "metadata": {},
     "output_type": "execute_result"
    }
   ],
   "source": [
    "# most common intents \n",
    "Counter(trn_ints).most_common(5)"
   ]
  },
  {
   "cell_type": "code",
   "execution_count": 26,
   "metadata": {},
   "outputs": [
    {
     "name": "stdout",
     "output_type": "stream",
     "text": [
      "text:     12 ['BOS', 'is', 'there', 'a', 'delta', 'flight', 'from', 'denver', 'to', 'san', 'francisco', 'EOS']\n",
      "encoding: 12 ['O', 'O', 'O', 'O', 'B-airline_name', 'O', 'O', 'B-fromloc.city_name', 'O', 'B-toloc.city_name', 'I-toloc.city_name', 'O']\n",
      "intent:      atis_flight\n",
      "\n",
      "text:     14 ['BOS', \"i'd\", 'like', 'a', 'twa', 'flight', 'from', 'las', 'vegas', 'to', 'new', 'york', 'nonstop', 'EOS']\n",
      "encoding: 14 ['O', 'O', 'O', 'O', 'B-airline_code', 'O', 'O', 'B-fromloc.city_name', 'I-fromloc.city_name', 'O', 'B-toloc.city_name', 'I-toloc.city_name', 'B-flight_stop', 'O']\n",
      "intent:      atis_flight\n",
      "\n",
      "text:     12 ['BOS', 'tell', 'me', 'about', 'ground', 'transportation', 'between', 'orlando', 'international', 'and', 'orlando', 'EOS']\n",
      "encoding: 12 ['O', 'O', 'O', 'O', 'O', 'O', 'O', 'B-fromloc.airport_name', 'I-fromloc.airport_name', 'O', 'B-toloc.city_name', 'O']\n",
      "intent:      atis_ground_service\n",
      "\n"
     ]
    }
   ],
   "source": [
    "# mapping of intent example  \n",
    "\n",
    "for i in range(1, 4):\n",
    "    print('text:    ', len(trn_texts[-i]), trn_texts[-i])\n",
    "    print('encoding:', len(trn_slots[-i]), trn_slots[-i])\n",
    "    print('intent:     ', trn_ints[-i])\n",
    "    print()"
   ]
  },
  {
   "cell_type": "code",
   "execution_count": 28,
   "metadata": {},
   "outputs": [
    {
     "name": "stdout",
     "output_type": "stream",
     "text": [
      "Requirement already satisfied: nltk in c:\\users\\training\\anaconda3\\lib\\site-packages (3.3)\n",
      "Requirement already satisfied: six in c:\\users\\training\\anaconda3\\lib\\site-packages (from nltk) (1.11.0)\n"
     ]
    },
    {
     "name": "stderr",
     "output_type": "stream",
     "text": [
      "distributed 1.21.8 requires msgpack, which is not installed.\n"
     ]
    }
   ],
   "source": [
    "! pip install nltk "
   ]
  },
  {
   "cell_type": "code",
   "execution_count": null,
   "metadata": {},
   "outputs": [],
   "source": []
  },
  {
   "cell_type": "code",
   "execution_count": null,
   "metadata": {},
   "outputs": [],
   "source": []
  }
 ],
 "metadata": {
  "kernelspec": {
   "display_name": "Python 3",
   "language": "python",
   "name": "python3"
  },
  "language_info": {
   "codemirror_mode": {
    "name": "ipython",
    "version": 3
   },
   "file_extension": ".py",
   "mimetype": "text/x-python",
   "name": "python",
   "nbconvert_exporter": "python",
   "pygments_lexer": "ipython3",
   "version": "3.6.5"
  }
 },
 "nbformat": 4,
 "nbformat_minor": 2
}
